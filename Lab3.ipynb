{
 "cells": [
  {
   "cell_type": "code",
   "execution_count": null,
   "id": "dd5161df-6f7b-4e6c-900c-1c328f6cf786",
   "metadata": {},
   "outputs": [],
   "source": [
    "!pip install -qq midi_neural_processor\n"
   ]
  },
  {
   "cell_type": "code",
   "execution_count": null,
   "id": "3141d3c6-a72e-4bdd-a76f-cbd513d04da8",
   "metadata": {},
   "outputs": [],
   "source": []
  }
 ],
 "metadata": {
  "kernelspec": {
   "display_name": "Python 3 (ipykernel)",
   "language": "python",
   "name": "python3"
  },
  "language_info": {
   "codemirror_mode": {
    "name": "ipython",
    "version": 3
   },
   "file_extension": ".py",
   "mimetype": "text/x-python",
   "name": "python",
   "nbconvert_exporter": "python",
   "pygments_lexer": "ipython3",
   "version": "3.12.4"
  }
 },
 "nbformat": 4,
 "nbformat_minor": 5
}
