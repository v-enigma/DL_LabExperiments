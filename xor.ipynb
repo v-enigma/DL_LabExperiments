{
 "cells": [
  {
   "cell_type": "code",
   "execution_count": 1,
   "id": "98fa9cbd-cd67-4944-838e-548cb99edfe5",
   "metadata": {},
   "outputs": [
    {
     "name": "stderr",
     "output_type": "stream",
     "text": [
      "C:\\Users\\venu9\\anaconda3\\Lib\\site-packages\\keras\\src\\layers\\core\\dense.py:87: UserWarning: Do not pass an `input_shape`/`input_dim` argument to a layer. When using Sequential models, prefer using an `Input(shape)` object as the first layer in the model instead.\n",
      "  super().__init__(activity_regularizer=activity_regularizer, **kwargs)\n"
     ]
    },
    {
     "name": "stdout",
     "output_type": "stream",
     "text": [
      "Enter 3 binary inputs (0 or 1) separated by spaces:\n"
     ]
    },
    {
     "name": "stdin",
     "output_type": "stream",
     "text": [
      "Inputs:  0 0 0\n"
     ]
    },
    {
     "name": "stdout",
     "output_type": "stream",
     "text": [
      "\u001b[1m1/1\u001b[0m \u001b[32m━━━━━━━━━━━━━━━━━━━━\u001b[0m\u001b[37m\u001b[0m \u001b[1m0s\u001b[0m 127ms/step\n",
      "Predicted XOR Output: 1\n"
     ]
    },
    {
     "name": "stdin",
     "output_type": "stream",
     "text": [
      "Do you want to try another input? (yes/no):  no\n"
     ]
    },
    {
     "name": "stdout",
     "output_type": "stream",
     "text": [
      "Exiting the program.\n"
     ]
    }
   ],
   "source": [
    "import numpy as np\n",
    "from tensorflow.keras.models import Sequential\n",
    "from tensorflow.keras.layers import Dense\n",
    "from tensorflow.keras.optimizers import Adam\n",
    "\n",
    "# Step 1: Define the Dataset\n",
    "# All possible combinations of 3 binary inputs\n",
    "X = np.array([\n",
    "    [0, 0, 0],\n",
    "    [0, 0, 1],\n",
    "    [0, 1, 0],\n",
    "    [0, 1, 1],\n",
    "    [1, 0, 0],\n",
    "    [1, 0, 1],\n",
    "    [1, 1, 0],\n",
    "    [1, 1, 1]\n",
    "])\n",
    "\n",
    "# XOR output: 1 if the number of 1's in the inputs is odd\n",
    "y = np.array([\n",
    "    0,  # 0 XOR 0 XOR 0 = 0\n",
    "    1,  # 0 XOR 0 XOR 1 = 1\n",
    "    1,  # 0 XOR 1 XOR 0 = 1\n",
    "    0,  # 0 XOR 1 XOR 1 = 0\n",
    "    1,  # 1 XOR 0 XOR 0 = 1\n",
    "    0,  # 1 XOR 0 XOR 1 = 0\n",
    "    0,  # 1 XOR 1 XOR 0 = 0\n",
    "    1   # 1 XOR 1 XOR 1 = 1\n",
    "])\n",
    "\n",
    "# Step 2: Build the Model\n",
    "model = Sequential([\n",
    "    Dense(8, input_dim=3, activation='relu'),  # Hidden layer with 8 neurons\n",
    "    Dense(1, activation='sigmoid')            # Output layer with 1 neuron\n",
    "])\n",
    "\n",
    "# Compile the model\n",
    "model.compile(optimizer=Adam(learning_rate=0.01), loss='binary_crossentropy', metrics=['accuracy'])\n",
    "\n",
    "# Step 3: Train the Model\n",
    "model.fit(X, y, epochs=500, verbose=0)  # Train for 500 epochs\n",
    "\n",
    "# Step 4: Function for User Input\n",
    "def get_user_input():\n",
    "    print(\"Enter 3 binary inputs (0 or 1) separated by spaces:\")\n",
    "    while True:\n",
    "        try:\n",
    "            user_input = input(\"Inputs: \")\n",
    "            inputs = list(map(int, user_input.split()))\n",
    "            if len(inputs) != 3 or any(i not in [0, 1] for i in inputs):\n",
    "                raise ValueError\n",
    "            return np.array(inputs).reshape(1, -1)\n",
    "        except ValueError:\n",
    "            print(\"Invalid input. Please enter exactly 3 binary values (0 or 1).\")\n",
    "\n",
    "# Step 5: Predict User Input\n",
    "while True:\n",
    "    user_inputs = get_user_input()\n",
    "    prediction = model.predict(user_inputs)\n",
    "    output = int(round(prediction[0][0]))\n",
    "    print(f\"Predicted XOR Output: {output}\")\n",
    "\n",
    "    # Ask if the user wants to continue\n",
    "    cont = input(\"Do you want to try another input? (yes/no): \").strip().lower()\n",
    "    if cont != 'yes':\n",
    "        print(\"Exiting the program.\")\n",
    "        break"
   ]
  },
  {
   "cell_type": "code",
   "execution_count": null,
   "id": "394c7b4a-f4e4-439e-b99f-527b9cb294c9",
   "metadata": {},
   "outputs": [],
   "source": []
  }
 ],
 "metadata": {
  "kernelspec": {
   "display_name": "Python 3 (ipykernel)",
   "language": "python",
   "name": "python3"
  },
  "language_info": {
   "codemirror_mode": {
    "name": "ipython",
    "version": 3
   },
   "file_extension": ".py",
   "mimetype": "text/x-python",
   "name": "python",
   "nbconvert_exporter": "python",
   "pygments_lexer": "ipython3",
   "version": "3.12.4"
  }
 },
 "nbformat": 4,
 "nbformat_minor": 5
}
